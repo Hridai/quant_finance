{
 "cells": [
  {
   "cell_type": "markdown",
   "id": "cf3058ab",
   "metadata": {},
   "source": [
    "# Fixed-Income Products\n",
    "Paul Wilmott's Introduction to Quantitative Finance Chapter 14\n",
    "Yield, Duration & Convexity\n",
    "\n",
    "## Yield\n",
    "Current yield is the measure of how much a contract earns and allows you to compare zero coupon bonds with coupon bearing bonds for example.\n",
    "\n",
    "$$ current\\,yield = \\frac{annual\\,£\\,coupon\\,income}{bond\\,price} $$\n",
    "\n",
    "This does not take into account the principal at maturity, reinvested coupons or any capital gains or loss."
   ]
  },
  {
   "cell_type": "code",
   "execution_count": 1,
   "id": "a4352fe3",
   "metadata": {},
   "outputs": [
    {
     "data": {
      "text/plain": [
       "0.045454545454545456"
      ]
     },
     "execution_count": 1,
     "metadata": {},
     "output_type": "execute_result"
    }
   ],
   "source": [
    "from quant_edu import Bond\n",
    "b = Bond(10, 0.04, 'A')\n",
    "b.get_current_yield(0.88)"
   ]
  },
  {
   "cell_type": "markdown",
   "id": "5ebea43b",
   "metadata": {},
   "source": [
    "One dollar recieved at time $T$ has the present value $Z(t;T)$ where\n",
    "$$ Z(t; T) = e^{-y(T-t)} $$\n",
    "We can solve for the rate, if we rearrange for y as a function of Z, the PV, and T, t\n",
    "$$ y = -\\frac{logZ}{T-t} $$\n",
    "\n",
    "If we know the price a bond is trading at, then we can calculate the **IRR** or the **Internal Rate of Return** or the **YTM** or the **Yield To Maturity**\n",
    "\n",
    "We are in essence solving for the interest rate $y$ in the bond PV equation (equation 1.0)\n",
    "$$V = Pe^{-y(T-t)} + \\sum_{i=1}^{N} C_{i}e^{-y(t_{i}-t)}$$\n",
    "\n",
    "**YTM** in this case is \"What is the internal rate of return we must use to give these cash flows a total present value of the quoted bond price?\""
   ]
  },
  {
   "cell_type": "code",
   "execution_count": 11,
   "id": "34553870",
   "metadata": {},
   "outputs": [
    {
     "name": "stdout",
     "output_type": "stream",
     "text": [
      "Internal Rate Of Return: 6.8665%\n"
     ]
    }
   ],
   "source": [
    "b = Bond(10, 0.06, 's')\n",
    "irr = b.get_ytm(0.96)\n",
    "print('Internal Rate Of Return: {:.4%}'.format(irr))"
   ]
  },
  {
   "cell_type": "code",
   "execution_count": null,
   "id": "cc5b2ffb",
   "metadata": {},
   "outputs": [],
   "source": []
  },
  {
   "cell_type": "code",
   "execution_count": null,
   "id": "eb8af2fb",
   "metadata": {},
   "outputs": [],
   "source": []
  },
  {
   "cell_type": "code",
   "execution_count": null,
   "id": "54f35232",
   "metadata": {},
   "outputs": [],
   "source": []
  },
  {
   "cell_type": "code",
   "execution_count": null,
   "id": "27dc2a5b",
   "metadata": {},
   "outputs": [],
   "source": []
  }
 ],
 "metadata": {
  "kernelspec": {
   "display_name": "Python 3",
   "language": "python",
   "name": "python3"
  },
  "language_info": {
   "codemirror_mode": {
    "name": "ipython",
    "version": 3
   },
   "file_extension": ".py",
   "mimetype": "text/x-python",
   "name": "python",
   "nbconvert_exporter": "python",
   "pygments_lexer": "ipython3",
   "version": "3.7.3"
  }
 },
 "nbformat": 4,
 "nbformat_minor": 5
}
